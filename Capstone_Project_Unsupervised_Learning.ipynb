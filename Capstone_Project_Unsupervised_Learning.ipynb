{
  "nbformat": 4,
  "nbformat_minor": 0,
  "metadata": {
    "colab": {
      "provenance": [],
      "authorship_tag": "ABX9TyM3MuWvTre/FRJPAyAVwjSZ",
      "include_colab_link": true
    },
    "kernelspec": {
      "name": "python3",
      "display_name": "Python 3"
    },
    "language_info": {
      "name": "python"
    }
  },
  "cells": [
    {
      "cell_type": "markdown",
      "metadata": {
        "id": "view-in-github",
        "colab_type": "text"
      },
      "source": [
        "<a href=\"https://colab.research.google.com/github/ambika1us/NETFLIX-MOVIES-AND-TV-SHOWS-CLUSTERING/blob/main/Capstone_Project_Unsupervised_Learning.ipynb\" target=\"_parent\"><img src=\"https://colab.research.google.com/assets/colab-badge.svg\" alt=\"Open In Colab\"/></a>"
      ]
    },
    {
      "cell_type": "markdown",
      "source": [
        "<H4><b>Project Name:</b> Netflix Movies and TV Shows Clustering</H4>\n",
        "<H5><b>Project Type:</b> Unsupervised</H5>\n",
        "<H5><b>Contribution:</b> Individual</H5>\n",
        "<H5><b>Team Member:</b> Ambika Prasad Rath (ambika1us@gmail.com)</H5>"
      ],
      "metadata": {
        "id": "VaQ3zg4bIXUv"
      }
    },
    {
      "cell_type": "markdown",
      "source": [
        "<h5><b>Project Summary:</b></h5><br>\n",
        "<P>This dataset consists of TV shows and movies available as of 2019. The dataset is collected from flixable which is third party Netflix search engine in 2018. They released an interesting report which shows that the number of TV shows on netflix has nearly tripled since 2010. The streaming services number of movies has decreased by more than 2000 titles since 2010, while its number of TV shows has nearly tripled. It will be interesting to explore what all other insights can be obtained from the same dataset. Integrating this dataset with other external datasets such as IMDB rating, rotten tomatoes can also provide many interesting findings.</P>"
      ],
      "metadata": {
        "id": "aAJh40LlJUnl"
      }
    },
    {
      "cell_type": "markdown",
      "source": [
        "<H5><b>GitHub Link:</b></H5>\n",
        "<p>https://github.com/ambika1us/NETFLIX-MOVIES-AND-TV-SHOWS-CLUSTERING</p>"
      ],
      "metadata": {
        "id": "MteZRzRKGJaF"
      }
    },
    {
      "cell_type": "markdown",
      "source": [
        "<h5><b>Problem Statement:</b></H5>\n",
        "<p>This dataset consists of TV shows and movies available as of 2019. The dataset is collected from flixable which is third party Netflix search engine in 2018. They released an interesting report which shows that the number of TV shows on netfli9x has nearly tripled since 2010. The streaming services number of movies has decreased by more than 2000 titles since 2010, while its number of TV shows has nearly tripled. it will be interesting to explore what all other insights can be obtained from the same dataset. Integrating this dataset with other external datasets such as IMDB rating.</p>\n",
        "<h6><b>Approch:</b></h6>\n",
        "<p>Initiaqlly, in the 1st step imported the dataset to carryout the analysis over the dataset to comprehend the details of available data and checked for null values and treated them. Here, we found more than 30% null values in the director's column. Then, we take appropriate action for null values according to the circumstances.</p>\n",
        "<p>Performed the exploratory data analysis and tried to get the understanding of the data and how the content is distributed in the dataset, its type and details such as which countries are watching more and which type of content is in demand etc. has been analyzed in this step with the help of visualization graph by getting insights from analysis.</p>"
      ],
      "metadata": {
        "id": "r3B5V3WeGZ3z"
      }
    },
    {
      "cell_type": "markdown",
      "source": [
        "<h5><b>In this project, we are required to do:</b></h5>\n",
        "<ol>\n",
        "<li>Exploratory Data Analysis.</li>\n",
        "<li>Understanding what type content is available in different countries.</li>\n",
        "<li>Is Netflix has increasingly focusing on TV rather than movies in recent years.</li>\n",
        "<li>Clustreing similar content by matching Text-Based features.</li>\n",
        "</ol>"
      ],
      "metadata": {
        "id": "lmWLQ4x-ieIl"
      }
    },
    {
      "cell_type": "markdown",
      "source": [
        "<H5><B>Attribute Information:</B></H5>\n",
        "<ol>\n",
        "<li><b>show_id:</b> UniqueID for every movie/TV show</li>\n",
        "<li><b>type:</b> Identifier- A movie or TV show</li>\n",
        "<li><b>title:</b> Title of the movie/TV show</li>\n",
        "<li><b>director:</b> Director of the movie</li>\n",
        "<li><b>cast:</b> Actors involved in the movie/show</li>\n",
        "<li><b>country:</b> Country where the movie/show was produced</li>\n",
        "<li><b>date_added:</b> Date it was added on Netflix</li>\n",
        "<li><b>release_year:</b> Actual release year of the movie/show</li>\n",
        "<li><b>rating:</b> TV rating of the movie/show</li>\n",
        "<li><b>duration:</b> Total duration-in minutes or number of season</li>\n",
        "<li><b>listed_in:</b> Genere</li>\n",
        "<li><b>description:</b> The summary description</li>\n",
        "</ol>"
      ],
      "metadata": {
        "id": "UObdmyuYjf3k"
      }
    },
    {
      "cell_type": "markdown",
      "source": [
        "<h4><b>Steps Involved:</b></h4>\n",
        "<p><b>Exploratory Data Analysis:</b> After loading the dataset we performed EDA. This process helped us figure out various aspects and relationships. It gave us a better idea of which feature behaves in which manner.</p>\n",
        "<p><b>Null Values Treatment:</b> Our dataset contains many null values. we fill them with some other values and we also drop some of the them because null values might tend to disturb our model.</p>\n",
        "<p><b>Standardization of features:</b> Our main motive through this step was to scale our data into a uniform format that would allow us to utilize the data in a better way while performing fitting and applying different algorithms to it. The basic goal was to enforce a level of consistency or uniforming to certain practices or operation within the selected environment.</p>"
      ],
      "metadata": {
        "id": "nCkUdUtS_3Km"
      }
    },
    {
      "cell_type": "code",
      "execution_count": null,
      "metadata": {
        "id": "ahLEUQpxxSYG"
      },
      "outputs": [],
      "source": []
    }
  ]
}